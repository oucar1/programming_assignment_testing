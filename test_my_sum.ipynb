{
 "cells": [
  {
   "cell_type": "markdown",
   "metadata": {},
   "source": []
  },
  {
   "cell_type": "code",
   "execution_count": null,
   "metadata": {},
   "outputs": [],
   "source": [
    "# my_sum\n",
    "def sum_list(numbers):\n",
    "    \"\"\"Takes a list of numbers and returns their sum.\"\"\"\n",
    "    return sum(numbers)"
   ]
  },
  {
   "cell_type": "code",
   "execution_count": null,
   "metadata": {},
   "outputs": [
    {
     "name": "stderr",
     "output_type": "stream",
     "text": [
      "...\n",
      "----------------------------------------------------------------------\n",
      "Ran 3 tests in 0.002s\n",
      "\n",
      "OK\n"
     ]
    },
    {
     "data": {
      "text/plain": [
       "<unittest.runner.TextTestResult run=3 errors=0 failures=0>"
      ]
     },
     "execution_count": 13,
     "metadata": {},
     "output_type": "execute_result"
    }
   ],
   "source": [
    "# test_my_sum\n",
    "import unittest\n",
    "\n",
    "class TestSum(unittest.TestCase):\n",
    "    def test_sum_positive_numbers(self):\n",
    "        \"\"\"Test that it can sum positive numbers.\"\"\"\n",
    "        data = [1, 2, 3]\n",
    "        result = sum_list(data)\n",
    "        self.assertEqual(result, 6)\n",
    "\n",
    "    def test_sum_negative_numbers(self):\n",
    "        \"\"\"Test that it can sum negative numbers.\"\"\"\n",
    "        data = [-1, -2, -3]\n",
    "        result = sum_list(data)\n",
    "        self.assertEqual(result, -6)\n",
    "\n",
    "    def test_empty_list(self):\n",
    "        \"\"\"Test that it returns 0 for an empty list.\"\"\"\n",
    "        data = []\n",
    "        result = sum_list(data)\n",
    "        self.assertEqual(result, 0)\n",
    "\n",
    "# Run the test\n",
    "unittest.TextTestRunner().run(unittest.defaultTestLoader.loadTestsFromTestCase(TestSum))\n",
    "\n",
    "\n"
   ]
  },
  {
   "cell_type": "markdown",
   "metadata": {},
   "source": [
    "The tests executed successfully:\n",
    "1. Summing positive numbers returned the correct sum.\n",
    "2. Summing negative numbers returned the correct negative sum.\n",
    "3. An empty list correctly returned a sum of 0.\n"
   ]
  }
 ],
 "metadata": {
  "kernelspec": {
   "display_name": "Python 3",
   "language": "python",
   "name": "python3"
  },
  "language_info": {
   "codemirror_mode": {
    "name": "ipython",
    "version": 3
   },
   "file_extension": ".py",
   "mimetype": "text/x-python",
   "name": "python",
   "nbconvert_exporter": "python",
   "pygments_lexer": "ipython3",
   "version": "3.12.2"
  }
 },
 "nbformat": 4,
 "nbformat_minor": 2
}
