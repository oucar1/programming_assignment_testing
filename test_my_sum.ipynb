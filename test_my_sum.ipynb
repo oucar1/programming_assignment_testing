{
 "cells": [
  {
   "cell_type": "code",
   "execution_count": 1,
   "metadata": {},
   "outputs": [
    {
     "ename": "ModuleNotFoundError",
     "evalue": "No module named 'my_sum'",
     "output_type": "error",
     "traceback": [
      "\u001b[1;31m---------------------------------------------------------------------------\u001b[0m",
      "\u001b[1;31mModuleNotFoundError\u001b[0m                       Traceback (most recent call last)",
      "Cell \u001b[1;32mIn[1], line 3\u001b[0m\n\u001b[0;32m      1\u001b[0m \u001b[38;5;66;03m# test_my_sum.py\u001b[39;00m\n\u001b[0;32m      2\u001b[0m \u001b[38;5;28;01mimport\u001b[39;00m \u001b[38;5;21;01munittest\u001b[39;00m\n\u001b[1;32m----> 3\u001b[0m \u001b[38;5;28;01mfrom\u001b[39;00m \u001b[38;5;21;01mmy_sum\u001b[39;00m \u001b[38;5;28;01mimport\u001b[39;00m sum_list\n\u001b[0;32m      5\u001b[0m \u001b[38;5;28;01mclass\u001b[39;00m \u001b[38;5;21;01mTestSum\u001b[39;00m(unittest\u001b[38;5;241m.\u001b[39mTestCase):\n\u001b[0;32m      6\u001b[0m     \u001b[38;5;28;01mdef\u001b[39;00m \u001b[38;5;21mtest_sum_positive_numbers\u001b[39m(\u001b[38;5;28mself\u001b[39m):\n",
      "\u001b[1;31mModuleNotFoundError\u001b[0m: No module named 'my_sum'"
     ]
    }
   ],
   "source": [
    "# test_my_sum.py\n",
    "import unittest\n",
    "from my_sum import sum_list\n",
    "\n",
    "class TestSum(unittest.TestCase):\n",
    "    def test_sum_positive_numbers(self):\n",
    "        \"\"\"Test that it can sum positive numbers.\"\"\"\n",
    "        data = [1, 2, 3]\n",
    "        result = sum_list(data)\n",
    "        self.assertEqual(result, 6)\n",
    "\n",
    "    def test_sum_negative_numbers(self):\n",
    "        \"\"\"Test that it can sum negative numbers.\"\"\"\n",
    "        data = [-1, -2, -3]\n",
    "        result = sum_list(data)\n",
    "        self.assertEqual(result, -6)\n",
    "\n",
    "    def test_empty_list(self):\n",
    "        \"\"\"Test that it returns 0 for an empty list.\"\"\"\n",
    "        data = []\n",
    "        result = sum_list(data)\n",
    "        self.assertEqual(result, 0)\n",
    "\n",
    "if __name__ == '__main__':\n",
    "    unittest.main()\n"
   ]
  }
 ],
 "metadata": {
  "kernelspec": {
   "display_name": "Python 3",
   "language": "python",
   "name": "python3"
  },
  "language_info": {
   "codemirror_mode": {
    "name": "ipython",
    "version": 3
   },
   "file_extension": ".py",
   "mimetype": "text/x-python",
   "name": "python",
   "nbconvert_exporter": "python",
   "pygments_lexer": "ipython3",
   "version": "3.12.2"
  }
 },
 "nbformat": 4,
 "nbformat_minor": 2
}
